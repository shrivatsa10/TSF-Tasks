{
 "cells": [
  {
   "cell_type": "markdown",
   "metadata": {},
   "source": [
    "## TSF Task 7: Stock Market Prediction using Numerical and Textual Analysis"
   ]
  },
  {
   "cell_type": "markdown",
   "metadata": {},
   "source": [
    "Objective: Create a hybrid model for stock price/performance\n",
    "prediction using numerical analysis of historical stock prices, and\n",
    "sentimental analysis of news headlines"
   ]
  },
  {
   "cell_type": "code",
   "execution_count": 1,
   "metadata": {},
   "outputs": [],
   "source": [
    "import pandas as pd\n",
    "import nltk\n",
    "from sklearn.feature_extraction.text import TfidfVectorizer"
   ]
  },
  {
   "cell_type": "code",
   "execution_count": 2,
   "metadata": {},
   "outputs": [],
   "source": [
    "df = pd.read_csv(\"india-news-headlines.csv\")\n",
    "df1 = pd.read_csv(\"^BSESN.csv\")"
   ]
  },
  {
   "cell_type": "code",
   "execution_count": 3,
   "metadata": {},
   "outputs": [
    {
     "data": {
      "text/html": [
       "<div>\n",
       "<style scoped>\n",
       "    .dataframe tbody tr th:only-of-type {\n",
       "        vertical-align: middle;\n",
       "    }\n",
       "\n",
       "    .dataframe tbody tr th {\n",
       "        vertical-align: top;\n",
       "    }\n",
       "\n",
       "    .dataframe thead th {\n",
       "        text-align: right;\n",
       "    }\n",
       "</style>\n",
       "<table border=\"1\" class=\"dataframe\">\n",
       "  <thead>\n",
       "    <tr style=\"text-align: right;\">\n",
       "      <th></th>\n",
       "      <th>publish_date</th>\n",
       "      <th>headline_category</th>\n",
       "      <th>headline_text</th>\n",
       "    </tr>\n",
       "  </thead>\n",
       "  <tbody>\n",
       "    <tr>\n",
       "      <th>0</th>\n",
       "      <td>20010102</td>\n",
       "      <td>unknown</td>\n",
       "      <td>Status quo will not be disturbed at Ayodhya; s...</td>\n",
       "    </tr>\n",
       "    <tr>\n",
       "      <th>1</th>\n",
       "      <td>20010102</td>\n",
       "      <td>unknown</td>\n",
       "      <td>Fissures in Hurriyat over Pak visit</td>\n",
       "    </tr>\n",
       "    <tr>\n",
       "      <th>2</th>\n",
       "      <td>20010102</td>\n",
       "      <td>unknown</td>\n",
       "      <td>America's unwanted heading for India?</td>\n",
       "    </tr>\n",
       "    <tr>\n",
       "      <th>3</th>\n",
       "      <td>20010102</td>\n",
       "      <td>unknown</td>\n",
       "      <td>For bigwigs; it is destination Goa</td>\n",
       "    </tr>\n",
       "    <tr>\n",
       "      <th>4</th>\n",
       "      <td>20010102</td>\n",
       "      <td>unknown</td>\n",
       "      <td>Extra buses to clear tourist traffic</td>\n",
       "    </tr>\n",
       "  </tbody>\n",
       "</table>\n",
       "</div>"
      ],
      "text/plain": [
       "   publish_date headline_category  \\\n",
       "0      20010102           unknown   \n",
       "1      20010102           unknown   \n",
       "2      20010102           unknown   \n",
       "3      20010102           unknown   \n",
       "4      20010102           unknown   \n",
       "\n",
       "                                       headline_text  \n",
       "0  Status quo will not be disturbed at Ayodhya; s...  \n",
       "1                Fissures in Hurriyat over Pak visit  \n",
       "2              America's unwanted heading for India?  \n",
       "3                 For bigwigs; it is destination Goa  \n",
       "4               Extra buses to clear tourist traffic  "
      ]
     },
     "execution_count": 3,
     "metadata": {},
     "output_type": "execute_result"
    }
   ],
   "source": [
    "df[:5]"
   ]
  },
  {
   "cell_type": "code",
   "execution_count": 4,
   "metadata": {},
   "outputs": [
    {
     "data": {
      "text/html": [
       "<div>\n",
       "<style scoped>\n",
       "    .dataframe tbody tr th:only-of-type {\n",
       "        vertical-align: middle;\n",
       "    }\n",
       "\n",
       "    .dataframe tbody tr th {\n",
       "        vertical-align: top;\n",
       "    }\n",
       "\n",
       "    .dataframe thead th {\n",
       "        text-align: right;\n",
       "    }\n",
       "</style>\n",
       "<table border=\"1\" class=\"dataframe\">\n",
       "  <thead>\n",
       "    <tr style=\"text-align: right;\">\n",
       "      <th></th>\n",
       "      <th>Date</th>\n",
       "      <th>Open</th>\n",
       "      <th>High</th>\n",
       "      <th>Low</th>\n",
       "      <th>Close</th>\n",
       "      <th>Adj Close</th>\n",
       "      <th>Volume</th>\n",
       "    </tr>\n",
       "  </thead>\n",
       "  <tbody>\n",
       "    <tr>\n",
       "      <th>0</th>\n",
       "      <td>2019-12-17</td>\n",
       "      <td>41052.359375</td>\n",
       "      <td>41401.648438</td>\n",
       "      <td>41005.179688</td>\n",
       "      <td>41352.171875</td>\n",
       "      <td>41352.171875</td>\n",
       "      <td>19000.0</td>\n",
       "    </tr>\n",
       "    <tr>\n",
       "      <th>1</th>\n",
       "      <td>2019-12-18</td>\n",
       "      <td>41442.750000</td>\n",
       "      <td>41614.769531</td>\n",
       "      <td>41358.468750</td>\n",
       "      <td>41558.570313</td>\n",
       "      <td>41558.570313</td>\n",
       "      <td>24300.0</td>\n",
       "    </tr>\n",
       "    <tr>\n",
       "      <th>2</th>\n",
       "      <td>2019-12-19</td>\n",
       "      <td>41571.820313</td>\n",
       "      <td>41719.289063</td>\n",
       "      <td>41456.398438</td>\n",
       "      <td>41673.921875</td>\n",
       "      <td>41673.921875</td>\n",
       "      <td>33300.0</td>\n",
       "    </tr>\n",
       "    <tr>\n",
       "      <th>3</th>\n",
       "      <td>2019-12-20</td>\n",
       "      <td>41746.199219</td>\n",
       "      <td>41809.960938</td>\n",
       "      <td>41636.109375</td>\n",
       "      <td>41681.539063</td>\n",
       "      <td>41681.539063</td>\n",
       "      <td>33600.0</td>\n",
       "    </tr>\n",
       "    <tr>\n",
       "      <th>4</th>\n",
       "      <td>2019-12-23</td>\n",
       "      <td>41548.261719</td>\n",
       "      <td>41701.621094</td>\n",
       "      <td>41474.609375</td>\n",
       "      <td>41642.660156</td>\n",
       "      <td>41642.660156</td>\n",
       "      <td>6200.0</td>\n",
       "    </tr>\n",
       "  </tbody>\n",
       "</table>\n",
       "</div>"
      ],
      "text/plain": [
       "         Date          Open          High           Low         Close  \\\n",
       "0  2019-12-17  41052.359375  41401.648438  41005.179688  41352.171875   \n",
       "1  2019-12-18  41442.750000  41614.769531  41358.468750  41558.570313   \n",
       "2  2019-12-19  41571.820313  41719.289063  41456.398438  41673.921875   \n",
       "3  2019-12-20  41746.199219  41809.960938  41636.109375  41681.539063   \n",
       "4  2019-12-23  41548.261719  41701.621094  41474.609375  41642.660156   \n",
       "\n",
       "      Adj Close   Volume  \n",
       "0  41352.171875  19000.0  \n",
       "1  41558.570313  24300.0  \n",
       "2  41673.921875  33300.0  \n",
       "3  41681.539063  33600.0  \n",
       "4  41642.660156   6200.0  "
      ]
     },
     "execution_count": 4,
     "metadata": {},
     "output_type": "execute_result"
    }
   ],
   "source": [
    "df1[:5]"
   ]
  },
  {
   "cell_type": "markdown",
   "metadata": {},
   "source": [
    "## Sentiment Analysis"
   ]
  },
  {
   "cell_type": "code",
   "execution_count": 5,
   "metadata": {},
   "outputs": [],
   "source": [
    "df = df.drop([\"headline_category\"], axis=1) #Cleaning Data"
   ]
  },
  {
   "cell_type": "code",
   "execution_count": 6,
   "metadata": {},
   "outputs": [
    {
     "data": {
      "text/html": [
       "<div>\n",
       "<style scoped>\n",
       "    .dataframe tbody tr th:only-of-type {\n",
       "        vertical-align: middle;\n",
       "    }\n",
       "\n",
       "    .dataframe tbody tr th {\n",
       "        vertical-align: top;\n",
       "    }\n",
       "\n",
       "    .dataframe thead th {\n",
       "        text-align: right;\n",
       "    }\n",
       "</style>\n",
       "<table border=\"1\" class=\"dataframe\">\n",
       "  <thead>\n",
       "    <tr style=\"text-align: right;\">\n",
       "      <th></th>\n",
       "      <th>publish_date</th>\n",
       "      <th>headline_text</th>\n",
       "    </tr>\n",
       "  </thead>\n",
       "  <tbody>\n",
       "    <tr>\n",
       "      <th>0</th>\n",
       "      <td>20010102</td>\n",
       "      <td>Status quo will not be disturbed at Ayodhya; s...</td>\n",
       "    </tr>\n",
       "    <tr>\n",
       "      <th>1</th>\n",
       "      <td>20010102</td>\n",
       "      <td>Fissures in Hurriyat over Pak visit</td>\n",
       "    </tr>\n",
       "    <tr>\n",
       "      <th>2</th>\n",
       "      <td>20010102</td>\n",
       "      <td>America's unwanted heading for India?</td>\n",
       "    </tr>\n",
       "    <tr>\n",
       "      <th>3</th>\n",
       "      <td>20010102</td>\n",
       "      <td>For bigwigs; it is destination Goa</td>\n",
       "    </tr>\n",
       "    <tr>\n",
       "      <th>4</th>\n",
       "      <td>20010102</td>\n",
       "      <td>Extra buses to clear tourist traffic</td>\n",
       "    </tr>\n",
       "  </tbody>\n",
       "</table>\n",
       "</div>"
      ],
      "text/plain": [
       "   publish_date                                      headline_text\n",
       "0      20010102  Status quo will not be disturbed at Ayodhya; s...\n",
       "1      20010102                Fissures in Hurriyat over Pak visit\n",
       "2      20010102              America's unwanted heading for India?\n",
       "3      20010102                 For bigwigs; it is destination Goa\n",
       "4      20010102               Extra buses to clear tourist traffic"
      ]
     },
     "execution_count": 6,
     "metadata": {},
     "output_type": "execute_result"
    }
   ],
   "source": [
    "df[:5]"
   ]
  },
  {
   "cell_type": "code",
   "execution_count": 7,
   "metadata": {},
   "outputs": [],
   "source": [
    "from vaderSentiment.vaderSentiment import SentimentIntensityAnalyzer"
   ]
  },
  {
   "cell_type": "code",
   "execution_count": 8,
   "metadata": {},
   "outputs": [],
   "source": [
    "reg = SentimentIntensityAnalyzer()"
   ]
  },
  {
   "cell_type": "code",
   "execution_count": 9,
   "metadata": {},
   "outputs": [
    {
     "name": "stdout",
     "output_type": "stream",
     "text": [
      "<vaderSentiment.vaderSentiment.SentimentIntensityAnalyzer object at 0x7fd06a3bb910>\n"
     ]
    }
   ],
   "source": [
    "reg.polarity_scores(df[\"headline_text\"][0])\n",
    "print(reg)"
   ]
  },
  {
   "cell_type": "code",
   "execution_count": 10,
   "metadata": {},
   "outputs": [],
   "source": [
    "df['Compound'] = [reg.polarity_scores(i)['compound'] for i in df['headline_text']]\n",
    "df['Negative'] = [reg.polarity_scores(i)['neg'] for i in df['headline_text']]\n",
    "df['Neutral'] = [reg.polarity_scores(i)['neu'] for i in df['headline_text']]\n",
    "df['Positive'] = [reg.polarity_scores(i)['pos'] for i in df['headline_text']]"
   ]
  },
  {
   "cell_type": "code",
   "execution_count": 11,
   "metadata": {},
   "outputs": [
    {
     "data": {
      "text/html": [
       "<div>\n",
       "<style scoped>\n",
       "    .dataframe tbody tr th:only-of-type {\n",
       "        vertical-align: middle;\n",
       "    }\n",
       "\n",
       "    .dataframe tbody tr th {\n",
       "        vertical-align: top;\n",
       "    }\n",
       "\n",
       "    .dataframe thead th {\n",
       "        text-align: right;\n",
       "    }\n",
       "</style>\n",
       "<table border=\"1\" class=\"dataframe\">\n",
       "  <thead>\n",
       "    <tr style=\"text-align: right;\">\n",
       "      <th></th>\n",
       "      <th>publish_date</th>\n",
       "      <th>headline_text</th>\n",
       "      <th>Compound</th>\n",
       "      <th>Negative</th>\n",
       "      <th>Neutral</th>\n",
       "      <th>Positive</th>\n",
       "    </tr>\n",
       "  </thead>\n",
       "  <tbody>\n",
       "    <tr>\n",
       "      <th>0</th>\n",
       "      <td>20010102</td>\n",
       "      <td>Status quo will not be disturbed at Ayodhya; s...</td>\n",
       "      <td>0.2924</td>\n",
       "      <td>0.000</td>\n",
       "      <td>0.805</td>\n",
       "      <td>0.195</td>\n",
       "    </tr>\n",
       "    <tr>\n",
       "      <th>1</th>\n",
       "      <td>20010102</td>\n",
       "      <td>Fissures in Hurriyat over Pak visit</td>\n",
       "      <td>0.0000</td>\n",
       "      <td>0.000</td>\n",
       "      <td>1.000</td>\n",
       "      <td>0.000</td>\n",
       "    </tr>\n",
       "    <tr>\n",
       "      <th>2</th>\n",
       "      <td>20010102</td>\n",
       "      <td>America's unwanted heading for India?</td>\n",
       "      <td>-0.2263</td>\n",
       "      <td>0.322</td>\n",
       "      <td>0.678</td>\n",
       "      <td>0.000</td>\n",
       "    </tr>\n",
       "    <tr>\n",
       "      <th>3</th>\n",
       "      <td>20010102</td>\n",
       "      <td>For bigwigs; it is destination Goa</td>\n",
       "      <td>0.0000</td>\n",
       "      <td>0.000</td>\n",
       "      <td>1.000</td>\n",
       "      <td>0.000</td>\n",
       "    </tr>\n",
       "    <tr>\n",
       "      <th>4</th>\n",
       "      <td>20010102</td>\n",
       "      <td>Extra buses to clear tourist traffic</td>\n",
       "      <td>0.3818</td>\n",
       "      <td>0.000</td>\n",
       "      <td>0.658</td>\n",
       "      <td>0.342</td>\n",
       "    </tr>\n",
       "  </tbody>\n",
       "</table>\n",
       "</div>"
      ],
      "text/plain": [
       "   publish_date                                      headline_text  Compound  \\\n",
       "0      20010102  Status quo will not be disturbed at Ayodhya; s...    0.2924   \n",
       "1      20010102                Fissures in Hurriyat over Pak visit    0.0000   \n",
       "2      20010102              America's unwanted heading for India?   -0.2263   \n",
       "3      20010102                 For bigwigs; it is destination Goa    0.0000   \n",
       "4      20010102               Extra buses to clear tourist traffic    0.3818   \n",
       "\n",
       "   Negative  Neutral  Positive  \n",
       "0     0.000    0.805     0.195  \n",
       "1     0.000    1.000     0.000  \n",
       "2     0.322    0.678     0.000  \n",
       "3     0.000    1.000     0.000  \n",
       "4     0.000    0.658     0.342  "
      ]
     },
     "execution_count": 11,
     "metadata": {},
     "output_type": "execute_result"
    }
   ],
   "source": [
    "df[:5]"
   ]
  },
  {
   "cell_type": "code",
   "execution_count": 12,
   "metadata": {},
   "outputs": [],
   "source": [
    "df[\"publish_date\"] = pd.to_datetime(df[\"publish_date\"],format='%Y%m%d')"
   ]
  },
  {
   "cell_type": "code",
   "execution_count": 14,
   "metadata": {},
   "outputs": [
    {
     "data": {
      "text/html": [
       "<div>\n",
       "<style scoped>\n",
       "    .dataframe tbody tr th:only-of-type {\n",
       "        vertical-align: middle;\n",
       "    }\n",
       "\n",
       "    .dataframe tbody tr th {\n",
       "        vertical-align: top;\n",
       "    }\n",
       "\n",
       "    .dataframe thead th {\n",
       "        text-align: right;\n",
       "    }\n",
       "</style>\n",
       "<table border=\"1\" class=\"dataframe\">\n",
       "  <thead>\n",
       "    <tr style=\"text-align: right;\">\n",
       "      <th></th>\n",
       "      <th>publish_date</th>\n",
       "      <th>headline_text</th>\n",
       "      <th>Compound</th>\n",
       "      <th>Negative</th>\n",
       "      <th>Neutral</th>\n",
       "      <th>Positive</th>\n",
       "    </tr>\n",
       "  </thead>\n",
       "  <tbody>\n",
       "    <tr>\n",
       "      <th>0</th>\n",
       "      <td>2001-01-02</td>\n",
       "      <td>Status quo will not be disturbed at Ayodhya; s...</td>\n",
       "      <td>0.2924</td>\n",
       "      <td>0.000</td>\n",
       "      <td>0.805</td>\n",
       "      <td>0.195</td>\n",
       "    </tr>\n",
       "    <tr>\n",
       "      <th>1</th>\n",
       "      <td>2001-01-02</td>\n",
       "      <td>Fissures in Hurriyat over Pak visit</td>\n",
       "      <td>0.0000</td>\n",
       "      <td>0.000</td>\n",
       "      <td>1.000</td>\n",
       "      <td>0.000</td>\n",
       "    </tr>\n",
       "    <tr>\n",
       "      <th>2</th>\n",
       "      <td>2001-01-02</td>\n",
       "      <td>America's unwanted heading for India?</td>\n",
       "      <td>-0.2263</td>\n",
       "      <td>0.322</td>\n",
       "      <td>0.678</td>\n",
       "      <td>0.000</td>\n",
       "    </tr>\n",
       "    <tr>\n",
       "      <th>3</th>\n",
       "      <td>2001-01-02</td>\n",
       "      <td>For bigwigs; it is destination Goa</td>\n",
       "      <td>0.0000</td>\n",
       "      <td>0.000</td>\n",
       "      <td>1.000</td>\n",
       "      <td>0.000</td>\n",
       "    </tr>\n",
       "    <tr>\n",
       "      <th>4</th>\n",
       "      <td>2001-01-02</td>\n",
       "      <td>Extra buses to clear tourist traffic</td>\n",
       "      <td>0.3818</td>\n",
       "      <td>0.000</td>\n",
       "      <td>0.658</td>\n",
       "      <td>0.342</td>\n",
       "    </tr>\n",
       "  </tbody>\n",
       "</table>\n",
       "</div>"
      ],
      "text/plain": [
       "  publish_date                                      headline_text  Compound  \\\n",
       "0   2001-01-02  Status quo will not be disturbed at Ayodhya; s...    0.2924   \n",
       "1   2001-01-02                Fissures in Hurriyat over Pak visit    0.0000   \n",
       "2   2001-01-02              America's unwanted heading for India?   -0.2263   \n",
       "3   2001-01-02                 For bigwigs; it is destination Goa    0.0000   \n",
       "4   2001-01-02               Extra buses to clear tourist traffic    0.3818   \n",
       "\n",
       "   Negative  Neutral  Positive  \n",
       "0     0.000    0.805     0.195  \n",
       "1     0.000    1.000     0.000  \n",
       "2     0.322    0.678     0.000  \n",
       "3     0.000    1.000     0.000  \n",
       "4     0.000    0.658     0.342  "
      ]
     },
     "execution_count": 14,
     "metadata": {},
     "output_type": "execute_result"
    }
   ],
   "source": [
    "df[:5]"
   ]
  },
  {
   "cell_type": "markdown",
   "metadata": {},
   "source": [
    "## Stock Dataset"
   ]
  },
  {
   "cell_type": "code",
   "execution_count": 19,
   "metadata": {},
   "outputs": [],
   "source": [
    "import matplotlib.pyplot as plt\n",
    "import seaborn as sn"
   ]
  },
  {
   "cell_type": "code",
   "execution_count": 20,
   "metadata": {},
   "outputs": [
    {
     "data": {
      "text/html": [
       "<div>\n",
       "<style scoped>\n",
       "    .dataframe tbody tr th:only-of-type {\n",
       "        vertical-align: middle;\n",
       "    }\n",
       "\n",
       "    .dataframe tbody tr th {\n",
       "        vertical-align: top;\n",
       "    }\n",
       "\n",
       "    .dataframe thead th {\n",
       "        text-align: right;\n",
       "    }\n",
       "</style>\n",
       "<table border=\"1\" class=\"dataframe\">\n",
       "  <thead>\n",
       "    <tr style=\"text-align: right;\">\n",
       "      <th></th>\n",
       "      <th>Date</th>\n",
       "      <th>Open</th>\n",
       "      <th>High</th>\n",
       "      <th>Low</th>\n",
       "      <th>Close</th>\n",
       "      <th>Adj Close</th>\n",
       "      <th>Volume</th>\n",
       "    </tr>\n",
       "  </thead>\n",
       "  <tbody>\n",
       "    <tr>\n",
       "      <th>0</th>\n",
       "      <td>2019-12-17</td>\n",
       "      <td>41052.359375</td>\n",
       "      <td>41401.648438</td>\n",
       "      <td>41005.179688</td>\n",
       "      <td>41352.171875</td>\n",
       "      <td>41352.171875</td>\n",
       "      <td>19000.0</td>\n",
       "    </tr>\n",
       "    <tr>\n",
       "      <th>1</th>\n",
       "      <td>2019-12-18</td>\n",
       "      <td>41442.750000</td>\n",
       "      <td>41614.769531</td>\n",
       "      <td>41358.468750</td>\n",
       "      <td>41558.570313</td>\n",
       "      <td>41558.570313</td>\n",
       "      <td>24300.0</td>\n",
       "    </tr>\n",
       "    <tr>\n",
       "      <th>2</th>\n",
       "      <td>2019-12-19</td>\n",
       "      <td>41571.820313</td>\n",
       "      <td>41719.289063</td>\n",
       "      <td>41456.398438</td>\n",
       "      <td>41673.921875</td>\n",
       "      <td>41673.921875</td>\n",
       "      <td>33300.0</td>\n",
       "    </tr>\n",
       "    <tr>\n",
       "      <th>3</th>\n",
       "      <td>2019-12-20</td>\n",
       "      <td>41746.199219</td>\n",
       "      <td>41809.960938</td>\n",
       "      <td>41636.109375</td>\n",
       "      <td>41681.539063</td>\n",
       "      <td>41681.539063</td>\n",
       "      <td>33600.0</td>\n",
       "    </tr>\n",
       "    <tr>\n",
       "      <th>4</th>\n",
       "      <td>2019-12-23</td>\n",
       "      <td>41548.261719</td>\n",
       "      <td>41701.621094</td>\n",
       "      <td>41474.609375</td>\n",
       "      <td>41642.660156</td>\n",
       "      <td>41642.660156</td>\n",
       "      <td>6200.0</td>\n",
       "    </tr>\n",
       "  </tbody>\n",
       "</table>\n",
       "</div>"
      ],
      "text/plain": [
       "         Date          Open          High           Low         Close  \\\n",
       "0  2019-12-17  41052.359375  41401.648438  41005.179688  41352.171875   \n",
       "1  2019-12-18  41442.750000  41614.769531  41358.468750  41558.570313   \n",
       "2  2019-12-19  41571.820313  41719.289063  41456.398438  41673.921875   \n",
       "3  2019-12-20  41746.199219  41809.960938  41636.109375  41681.539063   \n",
       "4  2019-12-23  41548.261719  41701.621094  41474.609375  41642.660156   \n",
       "\n",
       "      Adj Close   Volume  \n",
       "0  41352.171875  19000.0  \n",
       "1  41558.570313  24300.0  \n",
       "2  41673.921875  33300.0  \n",
       "3  41681.539063  33600.0  \n",
       "4  41642.660156   6200.0  "
      ]
     },
     "execution_count": 20,
     "metadata": {},
     "output_type": "execute_result"
    }
   ],
   "source": [
    "df1[:5]"
   ]
  },
  {
   "cell_type": "code",
   "execution_count": 21,
   "metadata": {},
   "outputs": [
    {
     "data": {
      "text/html": [
       "<div>\n",
       "<style scoped>\n",
       "    .dataframe tbody tr th:only-of-type {\n",
       "        vertical-align: middle;\n",
       "    }\n",
       "\n",
       "    .dataframe tbody tr th {\n",
       "        vertical-align: top;\n",
       "    }\n",
       "\n",
       "    .dataframe thead th {\n",
       "        text-align: right;\n",
       "    }\n",
       "</style>\n",
       "<table border=\"1\" class=\"dataframe\">\n",
       "  <thead>\n",
       "    <tr style=\"text-align: right;\">\n",
       "      <th></th>\n",
       "      <th>Open</th>\n",
       "      <th>High</th>\n",
       "      <th>Low</th>\n",
       "      <th>Close</th>\n",
       "      <th>Adj Close</th>\n",
       "      <th>Volume</th>\n",
       "    </tr>\n",
       "  </thead>\n",
       "  <tbody>\n",
       "    <tr>\n",
       "      <th>count</th>\n",
       "      <td>250.000000</td>\n",
       "      <td>250.000000</td>\n",
       "      <td>250.000000</td>\n",
       "      <td>250.000000</td>\n",
       "      <td>250.000000</td>\n",
       "      <td>250.000000</td>\n",
       "    </tr>\n",
       "    <tr>\n",
       "      <th>mean</th>\n",
       "      <td>37804.237375</td>\n",
       "      <td>38071.182859</td>\n",
       "      <td>37422.826992</td>\n",
       "      <td>37745.454117</td>\n",
       "      <td>37745.454117</td>\n",
       "      <td>19134.000000</td>\n",
       "    </tr>\n",
       "    <tr>\n",
       "      <th>std</th>\n",
       "      <td>4507.985769</td>\n",
       "      <td>4380.974060</td>\n",
       "      <td>4647.212947</td>\n",
       "      <td>4535.304336</td>\n",
       "      <td>4535.304336</td>\n",
       "      <td>16540.261333</td>\n",
       "    </tr>\n",
       "    <tr>\n",
       "      <th>min</th>\n",
       "      <td>26499.810547</td>\n",
       "      <td>27462.869141</td>\n",
       "      <td>25638.900391</td>\n",
       "      <td>25981.240234</td>\n",
       "      <td>25981.240234</td>\n",
       "      <td>0.000000</td>\n",
       "    </tr>\n",
       "    <tr>\n",
       "      <th>25%</th>\n",
       "      <td>34369.659179</td>\n",
       "      <td>34779.932618</td>\n",
       "      <td>33975.389648</td>\n",
       "      <td>34257.097656</td>\n",
       "      <td>34257.097656</td>\n",
       "      <td>13125.000000</td>\n",
       "    </tr>\n",
       "    <tr>\n",
       "      <th>50%</th>\n",
       "      <td>38489.480469</td>\n",
       "      <td>38750.359375</td>\n",
       "      <td>38234.869140</td>\n",
       "      <td>38425.974610</td>\n",
       "      <td>38425.974610</td>\n",
       "      <td>17000.000000</td>\n",
       "    </tr>\n",
       "    <tr>\n",
       "      <th>75%</th>\n",
       "      <td>41179.222656</td>\n",
       "      <td>41376.482422</td>\n",
       "      <td>41023.923828</td>\n",
       "      <td>41135.233399</td>\n",
       "      <td>41135.233399</td>\n",
       "      <td>21075.000000</td>\n",
       "    </tr>\n",
       "    <tr>\n",
       "      <th>max</th>\n",
       "      <td>46774.320313</td>\n",
       "      <td>46992.570313</td>\n",
       "      <td>46627.601563</td>\n",
       "      <td>46890.339844</td>\n",
       "      <td>46890.339844</td>\n",
       "      <td>188300.000000</td>\n",
       "    </tr>\n",
       "  </tbody>\n",
       "</table>\n",
       "</div>"
      ],
      "text/plain": [
       "               Open          High           Low         Close     Adj Close  \\\n",
       "count    250.000000    250.000000    250.000000    250.000000    250.000000   \n",
       "mean   37804.237375  38071.182859  37422.826992  37745.454117  37745.454117   \n",
       "std     4507.985769   4380.974060   4647.212947   4535.304336   4535.304336   \n",
       "min    26499.810547  27462.869141  25638.900391  25981.240234  25981.240234   \n",
       "25%    34369.659179  34779.932618  33975.389648  34257.097656  34257.097656   \n",
       "50%    38489.480469  38750.359375  38234.869140  38425.974610  38425.974610   \n",
       "75%    41179.222656  41376.482422  41023.923828  41135.233399  41135.233399   \n",
       "max    46774.320313  46992.570313  46627.601563  46890.339844  46890.339844   \n",
       "\n",
       "              Volume  \n",
       "count     250.000000  \n",
       "mean    19134.000000  \n",
       "std     16540.261333  \n",
       "min         0.000000  \n",
       "25%     13125.000000  \n",
       "50%     17000.000000  \n",
       "75%     21075.000000  \n",
       "max    188300.000000  "
      ]
     },
     "execution_count": 21,
     "metadata": {},
     "output_type": "execute_result"
    }
   ],
   "source": [
    "df1.describe()"
   ]
  },
  {
   "cell_type": "code",
   "execution_count": 22,
   "metadata": {},
   "outputs": [
    {
     "data": {
      "text/plain": [
       "Date         0\n",
       "Open         2\n",
       "High         2\n",
       "Low          2\n",
       "Close        2\n",
       "Adj Close    2\n",
       "Volume       2\n",
       "dtype: int64"
      ]
     },
     "execution_count": 22,
     "metadata": {},
     "output_type": "execute_result"
    }
   ],
   "source": [
    "df1.isnull().sum()"
   ]
  },
  {
   "cell_type": "code",
   "execution_count": 23,
   "metadata": {},
   "outputs": [],
   "source": [
    "df1.fillna(0, inplace=True)"
   ]
  },
  {
   "cell_type": "code",
   "execution_count": 24,
   "metadata": {},
   "outputs": [
    {
     "data": {
      "text/plain": [
       "Date         0\n",
       "Open         0\n",
       "High         0\n",
       "Low          0\n",
       "Close        0\n",
       "Adj Close    0\n",
       "Volume       0\n",
       "dtype: int64"
      ]
     },
     "execution_count": 24,
     "metadata": {},
     "output_type": "execute_result"
    }
   ],
   "source": [
    "df1.isnull().sum()"
   ]
  },
  {
   "cell_type": "code",
   "execution_count": 25,
   "metadata": {},
   "outputs": [],
   "source": [
    "#Plotting closing price over the years"
   ]
  },
  {
   "cell_type": "code",
   "execution_count": 26,
   "metadata": {},
   "outputs": [
    {
     "data": {
      "text/plain": [
       "Text(0.5, 1.0, 'CLOSING PRICE')"
      ]
     },
     "execution_count": 26,
     "metadata": {},
     "output_type": "execute_result"
    },
    {
     "data": {
      "image/png": "[encoded data removed]",
      "text/plain": [
       "<Figure size 720x360 with 1 Axes>"
      ]
     },
     "metadata": {
      "needs_background": "light"
     },
     "output_type": "display_data"
    }
   ],
   "source": [
    "plt.figure(figsize=(10,5))\n",
    "sn.set_style(\"whitegrid\")\n",
    "df1['Close'].plot()\n",
    "plt.ylabel(\"BSESN\", weight=\"bold\")\n",
    "plt.title(\"CLOSING PRICE\", weight=\"bold\")"
   ]
  },
  {
   "cell_type": "code",
   "execution_count": 27,
   "metadata": {},
   "outputs": [
    {
     "data": {
      "text/plain": [
       "Text(0.5, 1.0, 'OPENING v CLOSING PRICE')"
      ]
     },
     "execution_count": 27,
     "metadata": {},
     "output_type": "execute_result"
    },
    {
     "data": {
      "image/png": "[encoded data removed]",
      "text/plain": [
       "<Figure size 720x360 with 1 Axes>"
      ]
     },
     "metadata": {},
     "output_type": "display_data"
    }
   ],
   "source": [
    "plt.figure(figsize=(10,5))\n",
    "sn.set_style(\"whitegrid\")\n",
    "df1['Close'].plot()\n",
    "df1['Open'].plot()\n",
    "plt.title(\"OPENING v CLOSING PRICE\", weight=\"bold\")"
   ]
  },
  {
   "cell_type": "code",
   "execution_count": 28,
   "metadata": {},
   "outputs": [
    {
     "data": {
      "text/plain": [
       "Text(0.5, 1.0, 'HIGHEST v LOWEST PRICE')"
      ]
     },
     "execution_count": 28,
     "metadata": {},
     "output_type": "execute_result"
    },
    {
     "data": {
      "image/png": "[encoded data removed]",
      "text/plain": [
       "<Figure size 720x360 with 1 Axes>"
      ]
     },
     "metadata": {},
     "output_type": "display_data"
    }
   ],
   "source": [
    "plt.figure(figsize=(10,5))\n",
    "sn.set_style(\"whitegrid\")\n",
    "df1['High'].plot()\n",
    "df1['Low'].plot()\n",
    "plt.title(\"HIGHEST v LOWEST PRICE\", weight=\"bold\")"
   ]
  },
  {
   "cell_type": "markdown",
   "metadata": {},
   "source": [
    "## Combining data and predicting"
   ]
  },
  {
   "cell_type": "code",
   "execution_count": 29,
   "metadata": {},
   "outputs": [],
   "source": [
    "df.rename(columns={'publish_date': 'Date'}, inplace=True)"
   ]
  },
  {
   "cell_type": "code",
   "execution_count": 30,
   "metadata": {},
   "outputs": [
    {
     "data": {
      "text/html": [
       "<div>\n",
       "<style scoped>\n",
       "    .dataframe tbody tr th:only-of-type {\n",
       "        vertical-align: middle;\n",
       "    }\n",
       "\n",
       "    .dataframe tbody tr th {\n",
       "        vertical-align: top;\n",
       "    }\n",
       "\n",
       "    .dataframe thead th {\n",
       "        text-align: right;\n",
       "    }\n",
       "</style>\n",
       "<table border=\"1\" class=\"dataframe\">\n",
       "  <thead>\n",
       "    <tr style=\"text-align: right;\">\n",
       "      <th></th>\n",
       "      <th>Date</th>\n",
       "      <th>headline_text</th>\n",
       "      <th>Compound</th>\n",
       "      <th>Negative</th>\n",
       "      <th>Neutral</th>\n",
       "      <th>Positive</th>\n",
       "    </tr>\n",
       "  </thead>\n",
       "  <tbody>\n",
       "    <tr>\n",
       "      <th>0</th>\n",
       "      <td>2001-01-02</td>\n",
       "      <td>Status quo will not be disturbed at Ayodhya; s...</td>\n",
       "      <td>0.2924</td>\n",
       "      <td>0.000</td>\n",
       "      <td>0.805</td>\n",
       "      <td>0.195</td>\n",
       "    </tr>\n",
       "    <tr>\n",
       "      <th>1</th>\n",
       "      <td>2001-01-02</td>\n",
       "      <td>Fissures in Hurriyat over Pak visit</td>\n",
       "      <td>0.0000</td>\n",
       "      <td>0.000</td>\n",
       "      <td>1.000</td>\n",
       "      <td>0.000</td>\n",
       "    </tr>\n",
       "    <tr>\n",
       "      <th>2</th>\n",
       "      <td>2001-01-02</td>\n",
       "      <td>America's unwanted heading for India?</td>\n",
       "      <td>-0.2263</td>\n",
       "      <td>0.322</td>\n",
       "      <td>0.678</td>\n",
       "      <td>0.000</td>\n",
       "    </tr>\n",
       "    <tr>\n",
       "      <th>3</th>\n",
       "      <td>2001-01-02</td>\n",
       "      <td>For bigwigs; it is destination Goa</td>\n",
       "      <td>0.0000</td>\n",
       "      <td>0.000</td>\n",
       "      <td>1.000</td>\n",
       "      <td>0.000</td>\n",
       "    </tr>\n",
       "    <tr>\n",
       "      <th>4</th>\n",
       "      <td>2001-01-02</td>\n",
       "      <td>Extra buses to clear tourist traffic</td>\n",
       "      <td>0.3818</td>\n",
       "      <td>0.000</td>\n",
       "      <td>0.658</td>\n",
       "      <td>0.342</td>\n",
       "    </tr>\n",
       "    <tr>\n",
       "      <th>...</th>\n",
       "      <td>...</td>\n",
       "      <td>...</td>\n",
       "      <td>...</td>\n",
       "      <td>...</td>\n",
       "      <td>...</td>\n",
       "      <td>...</td>\n",
       "    </tr>\n",
       "    <tr>\n",
       "      <th>3424062</th>\n",
       "      <td>2020-12-31</td>\n",
       "      <td>Covid-19: Despite dip in cases; Rajasthan amon...</td>\n",
       "      <td>0.2023</td>\n",
       "      <td>0.000</td>\n",
       "      <td>0.870</td>\n",
       "      <td>0.130</td>\n",
       "    </tr>\n",
       "    <tr>\n",
       "      <th>3424063</th>\n",
       "      <td>2020-12-31</td>\n",
       "      <td>Covid-19: Despite dip in cases; Rajasthan amon...</td>\n",
       "      <td>0.2023</td>\n",
       "      <td>0.000</td>\n",
       "      <td>0.870</td>\n",
       "      <td>0.130</td>\n",
       "    </tr>\n",
       "    <tr>\n",
       "      <th>3424064</th>\n",
       "      <td>2020-12-31</td>\n",
       "      <td>Covid-19: Despite dip in cases; Rajasthan amon...</td>\n",
       "      <td>0.2023</td>\n",
       "      <td>0.000</td>\n",
       "      <td>0.870</td>\n",
       "      <td>0.130</td>\n",
       "    </tr>\n",
       "    <tr>\n",
       "      <th>3424065</th>\n",
       "      <td>2020-12-31</td>\n",
       "      <td>Govt extends deadline for use of FASTag till F...</td>\n",
       "      <td>0.1280</td>\n",
       "      <td>0.000</td>\n",
       "      <td>0.857</td>\n",
       "      <td>0.143</td>\n",
       "    </tr>\n",
       "    <tr>\n",
       "      <th>3424066</th>\n",
       "      <td>2020-12-31</td>\n",
       "      <td>Celebs plan to party safely and responsibly on...</td>\n",
       "      <td>0.7096</td>\n",
       "      <td>0.000</td>\n",
       "      <td>0.604</td>\n",
       "      <td>0.396</td>\n",
       "    </tr>\n",
       "  </tbody>\n",
       "</table>\n",
       "<p>3424067 rows × 6 columns</p>\n",
       "</div>"
      ],
      "text/plain": [
       "              Date                                      headline_text  \\\n",
       "0       2001-01-02  Status quo will not be disturbed at Ayodhya; s...   \n",
       "1       2001-01-02                Fissures in Hurriyat over Pak visit   \n",
       "2       2001-01-02              America's unwanted heading for India?   \n",
       "3       2001-01-02                 For bigwigs; it is destination Goa   \n",
       "4       2001-01-02               Extra buses to clear tourist traffic   \n",
       "...            ...                                                ...   \n",
       "3424062 2020-12-31  Covid-19: Despite dip in cases; Rajasthan amon...   \n",
       "3424063 2020-12-31  Covid-19: Despite dip in cases; Rajasthan amon...   \n",
       "3424064 2020-12-31  Covid-19: Despite dip in cases; Rajasthan amon...   \n",
       "3424065 2020-12-31  Govt extends deadline for use of FASTag till F...   \n",
       "3424066 2020-12-31  Celebs plan to party safely and responsibly on...   \n",
       "\n",
       "         Compound  Negative  Neutral  Positive  \n",
       "0          0.2924     0.000    0.805     0.195  \n",
       "1          0.0000     0.000    1.000     0.000  \n",
       "2         -0.2263     0.322    0.678     0.000  \n",
       "3          0.0000     0.000    1.000     0.000  \n",
       "4          0.3818     0.000    0.658     0.342  \n",
       "...           ...       ...      ...       ...  \n",
       "3424062    0.2023     0.000    0.870     0.130  \n",
       "3424063    0.2023     0.000    0.870     0.130  \n",
       "3424064    0.2023     0.000    0.870     0.130  \n",
       "3424065    0.1280     0.000    0.857     0.143  \n",
       "3424066    0.7096     0.000    0.604     0.396  \n",
       "\n",
       "[3424067 rows x 6 columns]"
      ]
     },
     "execution_count": 30,
     "metadata": {},
     "output_type": "execute_result"
    }
   ],
   "source": [
    "df"
   ]
  },
  {
   "cell_type": "code",
   "execution_count": 31,
   "metadata": {},
   "outputs": [
    {
     "data": {
      "text/plain": [
       "Date          object\n",
       "Open         float64\n",
       "High         float64\n",
       "Low          float64\n",
       "Close        float64\n",
       "Adj Close    float64\n",
       "Volume       float64\n",
       "dtype: object"
      ]
     },
     "execution_count": 31,
     "metadata": {},
     "output_type": "execute_result"
    }
   ],
   "source": [
    "df1.dtypes"
   ]
  },
  {
   "cell_type": "code",
   "execution_count": 32,
   "metadata": {},
   "outputs": [],
   "source": [
    "df1['Date'] = pd.to_datetime(df1['Date'])"
   ]
  },
  {
   "cell_type": "code",
   "execution_count": 33,
   "metadata": {},
   "outputs": [
    {
     "data": {
      "text/plain": [
       "Date         datetime64[ns]\n",
       "Open                float64\n",
       "High                float64\n",
       "Low                 float64\n",
       "Close               float64\n",
       "Adj Close           float64\n",
       "Volume              float64\n",
       "dtype: object"
      ]
     },
     "execution_count": 33,
     "metadata": {},
     "output_type": "execute_result"
    }
   ],
   "source": [
    "df1.dtypes"
   ]
  },
  {
   "cell_type": "code",
   "execution_count": 34,
   "metadata": {},
   "outputs": [
    {
     "data": {
      "text/html": [
       "<div>\n",
       "<style scoped>\n",
       "    .dataframe tbody tr th:only-of-type {\n",
       "        vertical-align: middle;\n",
       "    }\n",
       "\n",
       "    .dataframe tbody tr th {\n",
       "        vertical-align: top;\n",
       "    }\n",
       "\n",
       "    .dataframe thead th {\n",
       "        text-align: right;\n",
       "    }\n",
       "</style>\n",
       "<table border=\"1\" class=\"dataframe\">\n",
       "  <thead>\n",
       "    <tr style=\"text-align: right;\">\n",
       "      <th></th>\n",
       "      <th>Date</th>\n",
       "      <th>Open</th>\n",
       "      <th>High</th>\n",
       "      <th>Low</th>\n",
       "      <th>Close</th>\n",
       "      <th>Adj Close</th>\n",
       "      <th>Volume</th>\n",
       "      <th>headline_text</th>\n",
       "      <th>Compound</th>\n",
       "      <th>Negative</th>\n",
       "      <th>Neutral</th>\n",
       "      <th>Positive</th>\n",
       "    </tr>\n",
       "  </thead>\n",
       "  <tbody>\n",
       "    <tr>\n",
       "      <th>0</th>\n",
       "      <td>2019-12-17</td>\n",
       "      <td>41052.359375</td>\n",
       "      <td>41401.648438</td>\n",
       "      <td>41005.179688</td>\n",
       "      <td>41352.171875</td>\n",
       "      <td>41352.171875</td>\n",
       "      <td>19000.0</td>\n",
       "      <td>After Jagannath Temple; Puri beach devpt plan ...</td>\n",
       "      <td>0.0000</td>\n",
       "      <td>0.000</td>\n",
       "      <td>1.000</td>\n",
       "      <td>0.000</td>\n",
       "    </tr>\n",
       "    <tr>\n",
       "      <th>1</th>\n",
       "      <td>2019-12-17</td>\n",
       "      <td>41052.359375</td>\n",
       "      <td>41401.648438</td>\n",
       "      <td>41005.179688</td>\n",
       "      <td>41352.171875</td>\n",
       "      <td>41352.171875</td>\n",
       "      <td>19000.0</td>\n",
       "      <td>Caffeine high for self-help group from Koraput</td>\n",
       "      <td>0.0000</td>\n",
       "      <td>0.000</td>\n",
       "      <td>1.000</td>\n",
       "      <td>0.000</td>\n",
       "    </tr>\n",
       "    <tr>\n",
       "      <th>2</th>\n",
       "      <td>2019-12-17</td>\n",
       "      <td>41052.359375</td>\n",
       "      <td>41401.648438</td>\n",
       "      <td>41005.179688</td>\n",
       "      <td>41352.171875</td>\n",
       "      <td>41352.171875</td>\n",
       "      <td>19000.0</td>\n",
       "      <td>Chaos mars FASTag debut at toll plazas</td>\n",
       "      <td>-0.5719</td>\n",
       "      <td>0.381</td>\n",
       "      <td>0.619</td>\n",
       "      <td>0.000</td>\n",
       "    </tr>\n",
       "    <tr>\n",
       "      <th>3</th>\n",
       "      <td>2019-12-17</td>\n",
       "      <td>41052.359375</td>\n",
       "      <td>41401.648438</td>\n",
       "      <td>41005.179688</td>\n",
       "      <td>41352.171875</td>\n",
       "      <td>41352.171875</td>\n",
       "      <td>19000.0</td>\n",
       "      <td>After breather; onion inches back to Rs 120/kg</td>\n",
       "      <td>0.0000</td>\n",
       "      <td>0.000</td>\n",
       "      <td>1.000</td>\n",
       "      <td>0.000</td>\n",
       "    </tr>\n",
       "    <tr>\n",
       "      <th>4</th>\n",
       "      <td>2019-12-17</td>\n",
       "      <td>41052.359375</td>\n",
       "      <td>41401.648438</td>\n",
       "      <td>41005.179688</td>\n",
       "      <td>41352.171875</td>\n",
       "      <td>41352.171875</td>\n",
       "      <td>19000.0</td>\n",
       "      <td>Water board to handle sewer woes in surroundin...</td>\n",
       "      <td>-0.4404</td>\n",
       "      <td>0.244</td>\n",
       "      <td>0.756</td>\n",
       "      <td>0.000</td>\n",
       "    </tr>\n",
       "    <tr>\n",
       "      <th>...</th>\n",
       "      <td>...</td>\n",
       "      <td>...</td>\n",
       "      <td>...</td>\n",
       "      <td>...</td>\n",
       "      <td>...</td>\n",
       "      <td>...</td>\n",
       "      <td>...</td>\n",
       "      <td>...</td>\n",
       "      <td>...</td>\n",
       "      <td>...</td>\n",
       "      <td>...</td>\n",
       "      <td>...</td>\n",
       "    </tr>\n",
       "    <tr>\n",
       "      <th>125733</th>\n",
       "      <td>2020-12-17</td>\n",
       "      <td>46774.320313</td>\n",
       "      <td>46992.570313</td>\n",
       "      <td>46627.601563</td>\n",
       "      <td>46890.339844</td>\n",
       "      <td>46890.339844</td>\n",
       "      <td>0.0</td>\n",
       "      <td>Man beaten; detained on suspicion of taking drugs</td>\n",
       "      <td>-0.7964</td>\n",
       "      <td>0.618</td>\n",
       "      <td>0.382</td>\n",
       "      <td>0.000</td>\n",
       "    </tr>\n",
       "    <tr>\n",
       "      <th>125734</th>\n",
       "      <td>2020-12-17</td>\n",
       "      <td>46774.320313</td>\n",
       "      <td>46992.570313</td>\n",
       "      <td>46627.601563</td>\n",
       "      <td>46890.339844</td>\n",
       "      <td>46890.339844</td>\n",
       "      <td>0.0</td>\n",
       "      <td>Man-eater leopard terrifies Baramati</td>\n",
       "      <td>-0.5574</td>\n",
       "      <td>0.545</td>\n",
       "      <td>0.455</td>\n",
       "      <td>0.000</td>\n",
       "    </tr>\n",
       "    <tr>\n",
       "      <th>125735</th>\n",
       "      <td>2020-12-17</td>\n",
       "      <td>46774.320313</td>\n",
       "      <td>46992.570313</td>\n",
       "      <td>46627.601563</td>\n",
       "      <td>46890.339844</td>\n",
       "      <td>46890.339844</td>\n",
       "      <td>0.0</td>\n",
       "      <td>Gujarat enforces anti-land grab law</td>\n",
       "      <td>0.0000</td>\n",
       "      <td>0.000</td>\n",
       "      <td>1.000</td>\n",
       "      <td>0.000</td>\n",
       "    </tr>\n",
       "    <tr>\n",
       "      <th>125736</th>\n",
       "      <td>2020-12-17</td>\n",
       "      <td>46774.320313</td>\n",
       "      <td>46992.570313</td>\n",
       "      <td>46627.601563</td>\n",
       "      <td>46890.339844</td>\n",
       "      <td>46890.339844</td>\n",
       "      <td>0.0</td>\n",
       "      <td>AP CM Jagan Reddy bats for revised cost of Pol...</td>\n",
       "      <td>0.0000</td>\n",
       "      <td>0.000</td>\n",
       "      <td>1.000</td>\n",
       "      <td>0.000</td>\n",
       "    </tr>\n",
       "    <tr>\n",
       "      <th>125737</th>\n",
       "      <td>2020-12-17</td>\n",
       "      <td>46774.320313</td>\n",
       "      <td>46992.570313</td>\n",
       "      <td>46627.601563</td>\n",
       "      <td>46890.339844</td>\n",
       "      <td>46890.339844</td>\n",
       "      <td>0.0</td>\n",
       "      <td>Jagan seeks Union home minister's help in shif...</td>\n",
       "      <td>0.4019</td>\n",
       "      <td>0.000</td>\n",
       "      <td>0.803</td>\n",
       "      <td>0.197</td>\n",
       "    </tr>\n",
       "  </tbody>\n",
       "</table>\n",
       "<p>125738 rows × 12 columns</p>\n",
       "</div>"
      ],
      "text/plain": [
       "             Date          Open          High           Low         Close  \\\n",
       "0      2019-12-17  41052.359375  41401.648438  41005.179688  41352.171875   \n",
       "1      2019-12-17  41052.359375  41401.648438  41005.179688  41352.171875   \n",
       "2      2019-12-17  41052.359375  41401.648438  41005.179688  41352.171875   \n",
       "3      2019-12-17  41052.359375  41401.648438  41005.179688  41352.171875   \n",
       "4      2019-12-17  41052.359375  41401.648438  41005.179688  41352.171875   \n",
       "...           ...           ...           ...           ...           ...   \n",
       "125733 2020-12-17  46774.320313  46992.570313  46627.601563  46890.339844   \n",
       "125734 2020-12-17  46774.320313  46992.570313  46627.601563  46890.339844   \n",
       "125735 2020-12-17  46774.320313  46992.570313  46627.601563  46890.339844   \n",
       "125736 2020-12-17  46774.320313  46992.570313  46627.601563  46890.339844   \n",
       "125737 2020-12-17  46774.320313  46992.570313  46627.601563  46890.339844   \n",
       "\n",
       "           Adj Close   Volume  \\\n",
       "0       41352.171875  19000.0   \n",
       "1       41352.171875  19000.0   \n",
       "2       41352.171875  19000.0   \n",
       "3       41352.171875  19000.0   \n",
       "4       41352.171875  19000.0   \n",
       "...              ...      ...   \n",
       "125733  46890.339844      0.0   \n",
       "125734  46890.339844      0.0   \n",
       "125735  46890.339844      0.0   \n",
       "125736  46890.339844      0.0   \n",
       "125737  46890.339844      0.0   \n",
       "\n",
       "                                            headline_text  Compound  Negative  \\\n",
       "0       After Jagannath Temple; Puri beach devpt plan ...    0.0000     0.000   \n",
       "1          Caffeine high for self-help group from Koraput    0.0000     0.000   \n",
       "2                  Chaos mars FASTag debut at toll plazas   -0.5719     0.381   \n",
       "3          After breather; onion inches back to Rs 120/kg    0.0000     0.000   \n",
       "4       Water board to handle sewer woes in surroundin...   -0.4404     0.244   \n",
       "...                                                   ...       ...       ...   \n",
       "125733  Man beaten; detained on suspicion of taking drugs   -0.7964     0.618   \n",
       "125734               Man-eater leopard terrifies Baramati   -0.5574     0.545   \n",
       "125735                Gujarat enforces anti-land grab law    0.0000     0.000   \n",
       "125736  AP CM Jagan Reddy bats for revised cost of Pol...    0.0000     0.000   \n",
       "125737  Jagan seeks Union home minister's help in shif...    0.4019     0.000   \n",
       "\n",
       "        Neutral  Positive  \n",
       "0         1.000     0.000  \n",
       "1         1.000     0.000  \n",
       "2         0.619     0.000  \n",
       "3         1.000     0.000  \n",
       "4         0.756     0.000  \n",
       "...         ...       ...  \n",
       "125733    0.382     0.000  \n",
       "125734    0.455     0.000  \n",
       "125735    1.000     0.000  \n",
       "125736    1.000     0.000  \n",
       "125737    0.803     0.197  \n",
       "\n",
       "[125738 rows x 12 columns]"
      ]
     },
     "execution_count": 34,
     "metadata": {},
     "output_type": "execute_result"
    }
   ],
   "source": [
    "df_final = pd.merge(df1, df, how='inner', on='Date')\n",
    "df_final"
   ]
  },
  {
   "cell_type": "code",
   "execution_count": 35,
   "metadata": {},
   "outputs": [],
   "source": [
    "df_final = df_final.drop(['Date', 'Open', 'High', 'Low', 'Adj Close', 'Volume', 'headline_text'], axis=1)"
   ]
  },
  {
   "cell_type": "code",
   "execution_count": 36,
   "metadata": {},
   "outputs": [
    {
     "data": {
      "text/html": [
       "<div>\n",
       "<style scoped>\n",
       "    .dataframe tbody tr th:only-of-type {\n",
       "        vertical-align: middle;\n",
       "    }\n",
       "\n",
       "    .dataframe tbody tr th {\n",
       "        vertical-align: top;\n",
       "    }\n",
       "\n",
       "    .dataframe thead th {\n",
       "        text-align: right;\n",
       "    }\n",
       "</style>\n",
       "<table border=\"1\" class=\"dataframe\">\n",
       "  <thead>\n",
       "    <tr style=\"text-align: right;\">\n",
       "      <th></th>\n",
       "      <th>Close</th>\n",
       "      <th>Compound</th>\n",
       "      <th>Negative</th>\n",
       "      <th>Neutral</th>\n",
       "      <th>Positive</th>\n",
       "    </tr>\n",
       "  </thead>\n",
       "  <tbody>\n",
       "    <tr>\n",
       "      <th>0</th>\n",
       "      <td>41352.171875</td>\n",
       "      <td>0.0000</td>\n",
       "      <td>0.000</td>\n",
       "      <td>1.000</td>\n",
       "      <td>0.0</td>\n",
       "    </tr>\n",
       "    <tr>\n",
       "      <th>1</th>\n",
       "      <td>41352.171875</td>\n",
       "      <td>0.0000</td>\n",
       "      <td>0.000</td>\n",
       "      <td>1.000</td>\n",
       "      <td>0.0</td>\n",
       "    </tr>\n",
       "    <tr>\n",
       "      <th>2</th>\n",
       "      <td>41352.171875</td>\n",
       "      <td>-0.5719</td>\n",
       "      <td>0.381</td>\n",
       "      <td>0.619</td>\n",
       "      <td>0.0</td>\n",
       "    </tr>\n",
       "    <tr>\n",
       "      <th>3</th>\n",
       "      <td>41352.171875</td>\n",
       "      <td>0.0000</td>\n",
       "      <td>0.000</td>\n",
       "      <td>1.000</td>\n",
       "      <td>0.0</td>\n",
       "    </tr>\n",
       "    <tr>\n",
       "      <th>4</th>\n",
       "      <td>41352.171875</td>\n",
       "      <td>-0.4404</td>\n",
       "      <td>0.244</td>\n",
       "      <td>0.756</td>\n",
       "      <td>0.0</td>\n",
       "    </tr>\n",
       "  </tbody>\n",
       "</table>\n",
       "</div>"
      ],
      "text/plain": [
       "          Close  Compound  Negative  Neutral  Positive\n",
       "0  41352.171875    0.0000     0.000    1.000       0.0\n",
       "1  41352.171875    0.0000     0.000    1.000       0.0\n",
       "2  41352.171875   -0.5719     0.381    0.619       0.0\n",
       "3  41352.171875    0.0000     0.000    1.000       0.0\n",
       "4  41352.171875   -0.4404     0.244    0.756       0.0"
      ]
     },
     "execution_count": 36,
     "metadata": {},
     "output_type": "execute_result"
    }
   ],
   "source": [
    "df_final[:5]"
   ]
  },
  {
   "cell_type": "code",
   "execution_count": 37,
   "metadata": {},
   "outputs": [
    {
     "data": {
      "text/plain": [
       "Close       0\n",
       "Compound    0\n",
       "Negative    0\n",
       "Neutral     0\n",
       "Positive    0\n",
       "dtype: int64"
      ]
     },
     "execution_count": 37,
     "metadata": {},
     "output_type": "execute_result"
    }
   ],
   "source": [
    "df_final.isna().sum()"
   ]
  },
  {
   "cell_type": "code",
   "execution_count": 38,
   "metadata": {},
   "outputs": [
    {
     "data": {
      "text/plain": [
       "Close       float64\n",
       "Compound    float64\n",
       "Negative    float64\n",
       "Neutral     float64\n",
       "Positive    float64\n",
       "dtype: object"
      ]
     },
     "execution_count": 38,
     "metadata": {},
     "output_type": "execute_result"
    }
   ],
   "source": [
    "df_final.dtypes"
   ]
  },
  {
   "cell_type": "code",
   "execution_count": 39,
   "metadata": {},
   "outputs": [],
   "source": [
    "from sklearn.preprocessing import MinMaxScaler\n",
    "mm = MinMaxScaler()"
   ]
  },
  {
   "cell_type": "code",
   "execution_count": 40,
   "metadata": {},
   "outputs": [],
   "source": [
    "df_final1 = pd.DataFrame(mm.fit_transform(df_final)) #Normalization\n",
    "df_final1.columns = df_final.columns\n",
    "df_final1.index = df_final.index"
   ]
  },
  {
   "cell_type": "code",
   "execution_count": 41,
   "metadata": {},
   "outputs": [
    {
     "data": {
      "text/html": [
       "<div>\n",
       "<style scoped>\n",
       "    .dataframe tbody tr th:only-of-type {\n",
       "        vertical-align: middle;\n",
       "    }\n",
       "\n",
       "    .dataframe tbody tr th {\n",
       "        vertical-align: top;\n",
       "    }\n",
       "\n",
       "    .dataframe thead th {\n",
       "        text-align: right;\n",
       "    }\n",
       "</style>\n",
       "<table border=\"1\" class=\"dataframe\">\n",
       "  <thead>\n",
       "    <tr style=\"text-align: right;\">\n",
       "      <th></th>\n",
       "      <th>Close</th>\n",
       "      <th>Compound</th>\n",
       "      <th>Negative</th>\n",
       "      <th>Neutral</th>\n",
       "      <th>Positive</th>\n",
       "    </tr>\n",
       "  </thead>\n",
       "  <tbody>\n",
       "    <tr>\n",
       "      <th>0</th>\n",
       "      <td>0.881891</td>\n",
       "      <td>0.501386</td>\n",
       "      <td>0.000</td>\n",
       "      <td>1.000</td>\n",
       "      <td>0.0</td>\n",
       "    </tr>\n",
       "    <tr>\n",
       "      <th>1</th>\n",
       "      <td>0.881891</td>\n",
       "      <td>0.501386</td>\n",
       "      <td>0.000</td>\n",
       "      <td>1.000</td>\n",
       "      <td>0.0</td>\n",
       "    </tr>\n",
       "    <tr>\n",
       "      <th>2</th>\n",
       "      <td>0.881891</td>\n",
       "      <td>0.202197</td>\n",
       "      <td>0.381</td>\n",
       "      <td>0.619</td>\n",
       "      <td>0.0</td>\n",
       "    </tr>\n",
       "    <tr>\n",
       "      <th>3</th>\n",
       "      <td>0.881891</td>\n",
       "      <td>0.501386</td>\n",
       "      <td>0.000</td>\n",
       "      <td>1.000</td>\n",
       "      <td>0.0</td>\n",
       "    </tr>\n",
       "    <tr>\n",
       "      <th>4</th>\n",
       "      <td>0.881891</td>\n",
       "      <td>0.270991</td>\n",
       "      <td>0.244</td>\n",
       "      <td>0.756</td>\n",
       "      <td>0.0</td>\n",
       "    </tr>\n",
       "  </tbody>\n",
       "</table>\n",
       "</div>"
      ],
      "text/plain": [
       "      Close  Compound  Negative  Neutral  Positive\n",
       "0  0.881891  0.501386     0.000    1.000       0.0\n",
       "1  0.881891  0.501386     0.000    1.000       0.0\n",
       "2  0.881891  0.202197     0.381    0.619       0.0\n",
       "3  0.881891  0.501386     0.000    1.000       0.0\n",
       "4  0.881891  0.270991     0.244    0.756       0.0"
      ]
     },
     "execution_count": 41,
     "metadata": {},
     "output_type": "execute_result"
    }
   ],
   "source": [
    "df_final1[:5]"
   ]
  },
  {
   "cell_type": "code",
   "execution_count": 42,
   "metadata": {},
   "outputs": [],
   "source": [
    "X = df_final1.drop(['Close'], axis=1)\n",
    "y = df_final1['Close']"
   ]
  },
  {
   "cell_type": "code",
   "execution_count": 43,
   "metadata": {},
   "outputs": [
    {
     "data": {
      "text/html": [
       "<div>\n",
       "<style scoped>\n",
       "    .dataframe tbody tr th:only-of-type {\n",
       "        vertical-align: middle;\n",
       "    }\n",
       "\n",
       "    .dataframe tbody tr th {\n",
       "        vertical-align: top;\n",
       "    }\n",
       "\n",
       "    .dataframe thead th {\n",
       "        text-align: right;\n",
       "    }\n",
       "</style>\n",
       "<table border=\"1\" class=\"dataframe\">\n",
       "  <thead>\n",
       "    <tr style=\"text-align: right;\">\n",
       "      <th></th>\n",
       "      <th>Compound</th>\n",
       "      <th>Negative</th>\n",
       "      <th>Neutral</th>\n",
       "      <th>Positive</th>\n",
       "    </tr>\n",
       "  </thead>\n",
       "  <tbody>\n",
       "    <tr>\n",
       "      <th>0</th>\n",
       "      <td>0.501386</td>\n",
       "      <td>0.000</td>\n",
       "      <td>1.000</td>\n",
       "      <td>0.0</td>\n",
       "    </tr>\n",
       "    <tr>\n",
       "      <th>1</th>\n",
       "      <td>0.501386</td>\n",
       "      <td>0.000</td>\n",
       "      <td>1.000</td>\n",
       "      <td>0.0</td>\n",
       "    </tr>\n",
       "    <tr>\n",
       "      <th>2</th>\n",
       "      <td>0.202197</td>\n",
       "      <td>0.381</td>\n",
       "      <td>0.619</td>\n",
       "      <td>0.0</td>\n",
       "    </tr>\n",
       "    <tr>\n",
       "      <th>3</th>\n",
       "      <td>0.501386</td>\n",
       "      <td>0.000</td>\n",
       "      <td>1.000</td>\n",
       "      <td>0.0</td>\n",
       "    </tr>\n",
       "    <tr>\n",
       "      <th>4</th>\n",
       "      <td>0.270991</td>\n",
       "      <td>0.244</td>\n",
       "      <td>0.756</td>\n",
       "      <td>0.0</td>\n",
       "    </tr>\n",
       "  </tbody>\n",
       "</table>\n",
       "</div>"
      ],
      "text/plain": [
       "   Compound  Negative  Neutral  Positive\n",
       "0  0.501386     0.000    1.000       0.0\n",
       "1  0.501386     0.000    1.000       0.0\n",
       "2  0.202197     0.381    0.619       0.0\n",
       "3  0.501386     0.000    1.000       0.0\n",
       "4  0.270991     0.244    0.756       0.0"
      ]
     },
     "execution_count": 43,
     "metadata": {},
     "output_type": "execute_result"
    }
   ],
   "source": [
    "X.head()"
   ]
  },
  {
   "cell_type": "code",
   "execution_count": 44,
   "metadata": {},
   "outputs": [
    {
     "data": {
      "text/plain": [
       "0    0.881891\n",
       "1    0.881891\n",
       "2    0.881891\n",
       "3    0.881891\n",
       "4    0.881891\n",
       "Name: Close, dtype: float64"
      ]
     },
     "execution_count": 44,
     "metadata": {},
     "output_type": "execute_result"
    }
   ],
   "source": [
    "y.head()"
   ]
  },
  {
   "cell_type": "code",
   "execution_count": 45,
   "metadata": {},
   "outputs": [],
   "source": [
    "from sklearn.model_selection import train_test_split"
   ]
  },
  {
   "cell_type": "code",
   "execution_count": 46,
   "metadata": {},
   "outputs": [],
   "source": [
    "X_train, X_test, y_train, y_test = train_test_split(X,y, test_size=0.2, random_state=0)"
   ]
  },
  {
   "cell_type": "code",
   "execution_count": 47,
   "metadata": {},
   "outputs": [
    {
     "data": {
      "text/html": [
       "<div>\n",
       "<style scoped>\n",
       "    .dataframe tbody tr th:only-of-type {\n",
       "        vertical-align: middle;\n",
       "    }\n",
       "\n",
       "    .dataframe tbody tr th {\n",
       "        vertical-align: top;\n",
       "    }\n",
       "\n",
       "    .dataframe thead th {\n",
       "        text-align: right;\n",
       "    }\n",
       "</style>\n",
       "<table border=\"1\" class=\"dataframe\">\n",
       "  <thead>\n",
       "    <tr style=\"text-align: right;\">\n",
       "      <th></th>\n",
       "      <th>Compound</th>\n",
       "      <th>Negative</th>\n",
       "      <th>Neutral</th>\n",
       "      <th>Positive</th>\n",
       "    </tr>\n",
       "  </thead>\n",
       "  <tbody>\n",
       "    <tr>\n",
       "      <th>63612</th>\n",
       "      <td>0.501386</td>\n",
       "      <td>0.000</td>\n",
       "      <td>1.000</td>\n",
       "      <td>0.000000</td>\n",
       "    </tr>\n",
       "    <tr>\n",
       "      <th>17874</th>\n",
       "      <td>0.555114</td>\n",
       "      <td>0.153</td>\n",
       "      <td>0.667</td>\n",
       "      <td>0.209546</td>\n",
       "    </tr>\n",
       "    <tr>\n",
       "      <th>112825</th>\n",
       "      <td>0.270991</td>\n",
       "      <td>0.209</td>\n",
       "      <td>0.791</td>\n",
       "      <td>0.000000</td>\n",
       "    </tr>\n",
       "    <tr>\n",
       "      <th>25528</th>\n",
       "      <td>0.501386</td>\n",
       "      <td>0.000</td>\n",
       "      <td>1.000</td>\n",
       "      <td>0.000000</td>\n",
       "    </tr>\n",
       "    <tr>\n",
       "      <th>68632</th>\n",
       "      <td>0.358462</td>\n",
       "      <td>0.185</td>\n",
       "      <td>0.635</td>\n",
       "      <td>0.209546</td>\n",
       "    </tr>\n",
       "    <tr>\n",
       "      <th>...</th>\n",
       "      <td>...</td>\n",
       "      <td>...</td>\n",
       "      <td>...</td>\n",
       "      <td>...</td>\n",
       "    </tr>\n",
       "    <tr>\n",
       "      <th>45891</th>\n",
       "      <td>0.501386</td>\n",
       "      <td>0.000</td>\n",
       "      <td>1.000</td>\n",
       "      <td>0.000000</td>\n",
       "    </tr>\n",
       "    <tr>\n",
       "      <th>117952</th>\n",
       "      <td>0.501386</td>\n",
       "      <td>0.000</td>\n",
       "      <td>1.000</td>\n",
       "      <td>0.000000</td>\n",
       "    </tr>\n",
       "    <tr>\n",
       "      <th>42613</th>\n",
       "      <td>0.346534</td>\n",
       "      <td>0.180</td>\n",
       "      <td>0.820</td>\n",
       "      <td>0.000000</td>\n",
       "    </tr>\n",
       "    <tr>\n",
       "      <th>43567</th>\n",
       "      <td>0.323516</td>\n",
       "      <td>0.352</td>\n",
       "      <td>0.455</td>\n",
       "      <td>0.224680</td>\n",
       "    </tr>\n",
       "    <tr>\n",
       "      <th>68268</th>\n",
       "      <td>0.501386</td>\n",
       "      <td>0.000</td>\n",
       "      <td>1.000</td>\n",
       "      <td>0.000000</td>\n",
       "    </tr>\n",
       "  </tbody>\n",
       "</table>\n",
       "<p>100590 rows × 4 columns</p>\n",
       "</div>"
      ],
      "text/plain": [
       "        Compound  Negative  Neutral  Positive\n",
       "63612   0.501386     0.000    1.000  0.000000\n",
       "17874   0.555114     0.153    0.667  0.209546\n",
       "112825  0.270991     0.209    0.791  0.000000\n",
       "25528   0.501386     0.000    1.000  0.000000\n",
       "68632   0.358462     0.185    0.635  0.209546\n",
       "...          ...       ...      ...       ...\n",
       "45891   0.501386     0.000    1.000  0.000000\n",
       "117952  0.501386     0.000    1.000  0.000000\n",
       "42613   0.346534     0.180    0.820  0.000000\n",
       "43567   0.323516     0.352    0.455  0.224680\n",
       "68268   0.501386     0.000    1.000  0.000000\n",
       "\n",
       "[100590 rows x 4 columns]"
      ]
     },
     "execution_count": 47,
     "metadata": {},
     "output_type": "execute_result"
    }
   ],
   "source": [
    "X_train"
   ]
  },
  {
   "cell_type": "code",
   "execution_count": 48,
   "metadata": {},
   "outputs": [
    {
     "data": {
      "text/html": [
       "<div>\n",
       "<style scoped>\n",
       "    .dataframe tbody tr th:only-of-type {\n",
       "        vertical-align: middle;\n",
       "    }\n",
       "\n",
       "    .dataframe tbody tr th {\n",
       "        vertical-align: top;\n",
       "    }\n",
       "\n",
       "    .dataframe thead th {\n",
       "        text-align: right;\n",
       "    }\n",
       "</style>\n",
       "<table border=\"1\" class=\"dataframe\">\n",
       "  <thead>\n",
       "    <tr style=\"text-align: right;\">\n",
       "      <th></th>\n",
       "      <th>Compound</th>\n",
       "      <th>Negative</th>\n",
       "      <th>Neutral</th>\n",
       "      <th>Positive</th>\n",
       "    </tr>\n",
       "  </thead>\n",
       "  <tbody>\n",
       "    <tr>\n",
       "      <th>59248</th>\n",
       "      <td>0.217682</td>\n",
       "      <td>0.368</td>\n",
       "      <td>0.632</td>\n",
       "      <td>0.000000</td>\n",
       "    </tr>\n",
       "    <tr>\n",
       "      <th>87117</th>\n",
       "      <td>0.162072</td>\n",
       "      <td>0.462</td>\n",
       "      <td>0.538</td>\n",
       "      <td>0.000000</td>\n",
       "    </tr>\n",
       "    <tr>\n",
       "      <th>7064</th>\n",
       "      <td>0.094219</td>\n",
       "      <td>0.382</td>\n",
       "      <td>0.618</td>\n",
       "      <td>0.000000</td>\n",
       "    </tr>\n",
       "    <tr>\n",
       "      <th>19031</th>\n",
       "      <td>0.501386</td>\n",
       "      <td>0.000</td>\n",
       "      <td>1.000</td>\n",
       "      <td>0.000000</td>\n",
       "    </tr>\n",
       "    <tr>\n",
       "      <th>23045</th>\n",
       "      <td>0.346534</td>\n",
       "      <td>0.239</td>\n",
       "      <td>0.761</td>\n",
       "      <td>0.000000</td>\n",
       "    </tr>\n",
       "    <tr>\n",
       "      <th>...</th>\n",
       "      <td>...</td>\n",
       "      <td>...</td>\n",
       "      <td>...</td>\n",
       "      <td>...</td>\n",
       "    </tr>\n",
       "    <tr>\n",
       "      <th>22742</th>\n",
       "      <td>0.501386</td>\n",
       "      <td>0.000</td>\n",
       "      <td>1.000</td>\n",
       "      <td>0.000000</td>\n",
       "    </tr>\n",
       "    <tr>\n",
       "      <th>40732</th>\n",
       "      <td>0.301648</td>\n",
       "      <td>0.302</td>\n",
       "      <td>0.698</td>\n",
       "      <td>0.000000</td>\n",
       "    </tr>\n",
       "    <tr>\n",
       "      <th>5737</th>\n",
       "      <td>0.370599</td>\n",
       "      <td>0.356</td>\n",
       "      <td>0.385</td>\n",
       "      <td>0.302678</td>\n",
       "    </tr>\n",
       "    <tr>\n",
       "      <th>109240</th>\n",
       "      <td>0.711640</td>\n",
       "      <td>0.000</td>\n",
       "      <td>0.816</td>\n",
       "      <td>0.214203</td>\n",
       "    </tr>\n",
       "    <tr>\n",
       "      <th>23151</th>\n",
       "      <td>0.194873</td>\n",
       "      <td>0.352</td>\n",
       "      <td>0.648</td>\n",
       "      <td>0.000000</td>\n",
       "    </tr>\n",
       "  </tbody>\n",
       "</table>\n",
       "<p>25148 rows × 4 columns</p>\n",
       "</div>"
      ],
      "text/plain": [
       "        Compound  Negative  Neutral  Positive\n",
       "59248   0.217682     0.368    0.632  0.000000\n",
       "87117   0.162072     0.462    0.538  0.000000\n",
       "7064    0.094219     0.382    0.618  0.000000\n",
       "19031   0.501386     0.000    1.000  0.000000\n",
       "23045   0.346534     0.239    0.761  0.000000\n",
       "...          ...       ...      ...       ...\n",
       "22742   0.501386     0.000    1.000  0.000000\n",
       "40732   0.301648     0.302    0.698  0.000000\n",
       "5737    0.370599     0.356    0.385  0.302678\n",
       "109240  0.711640     0.000    0.816  0.214203\n",
       "23151   0.194873     0.352    0.648  0.000000\n",
       "\n",
       "[25148 rows x 4 columns]"
      ]
     },
     "execution_count": 48,
     "metadata": {},
     "output_type": "execute_result"
    }
   ],
   "source": [
    "X_test"
   ]
  },
  {
   "cell_type": "code",
   "execution_count": 49,
   "metadata": {},
   "outputs": [],
   "source": [
    "from sklearn.ensemble import RandomForestRegressor\n",
    "from sklearn.tree import DecisionTreeRegressor\n",
    "from sklearn import svm\n",
    "from sklearn.metrics import mean_squared_error"
   ]
  },
  {
   "cell_type": "code",
   "execution_count": 50,
   "metadata": {},
   "outputs": [],
   "source": [
    "rf = RandomForestRegressor()\n",
    "dt = DecisionTreeRegressor()\n",
    "sm = svm.SVR()"
   ]
  },
  {
   "cell_type": "code",
   "execution_count": 51,
   "metadata": {},
   "outputs": [],
   "source": [
    "rf.fit(X_train, y_train)\n",
    "predictions = rf.predict(X_test)\n",
    "rf1 = mean_squared_error(predictions, y_test)"
   ]
  },
  {
   "cell_type": "code",
   "execution_count": 52,
   "metadata": {},
   "outputs": [],
   "source": [
    "dt.fit(X_train, y_train)\n",
    "predictions = dt.predict(X_test)\n",
    "dt1 = mean_squared_error(predictions, y_test)"
   ]
  },
  {
   "cell_type": "code",
   "execution_count": 53,
   "metadata": {},
   "outputs": [],
   "source": [
    "sm.fit(X_train, y_train)\n",
    "predictions = sm.predict(X_test)\n",
    "sm1 = mean_squared_error(predictions, y_test)"
   ]
  },
  {
   "cell_type": "code",
   "execution_count": 56,
   "metadata": {},
   "outputs": [
    {
     "data": {
      "text/html": [
       "<div>\n",
       "<style scoped>\n",
       "    .dataframe tbody tr th:only-of-type {\n",
       "        vertical-align: middle;\n",
       "    }\n",
       "\n",
       "    .dataframe tbody tr th {\n",
       "        vertical-align: top;\n",
       "    }\n",
       "\n",
       "    .dataframe thead th {\n",
       "        text-align: right;\n",
       "    }\n",
       "</style>\n",
       "<table border=\"1\" class=\"dataframe\">\n",
       "  <thead>\n",
       "    <tr style=\"text-align: right;\">\n",
       "      <th></th>\n",
       "      <th>model</th>\n",
       "      <th>mse</th>\n",
       "    </tr>\n",
       "  </thead>\n",
       "  <tbody>\n",
       "  </tbody>\n",
       "</table>\n",
       "</div>"
      ],
      "text/plain": [
       "Empty DataFrame\n",
       "Columns: [model, mse]\n",
       "Index: []"
      ]
     },
     "execution_count": 56,
     "metadata": {},
     "output_type": "execute_result"
    }
   ],
   "source": [
    "df = pd.DataFrame(columns=['model','mse'])\n",
    "df"
   ]
  },
  {
   "cell_type": "code",
   "execution_count": 57,
   "metadata": {},
   "outputs": [],
   "source": [
    "df = df.append({ 'model' :\"Random Forest\", 'mse': rf1}, ignore_index=True)\n",
    "df = df.append({ 'model' :\"Decision Tree Regressor\", 'mse': dt1}, ignore_index=True)\n",
    "df = df.append({ 'model' :\"SVM\", 'mse': sm1}, ignore_index=True)"
   ]
  },
  {
   "cell_type": "code",
   "execution_count": 58,
   "metadata": {},
   "outputs": [],
   "source": [
    "df = df.sort_values('mse', ascending=True)"
   ]
  },
  {
   "cell_type": "code",
   "execution_count": 59,
   "metadata": {},
   "outputs": [
    {
     "data": {
      "text/html": [
       "<div>\n",
       "<style scoped>\n",
       "    .dataframe tbody tr th:only-of-type {\n",
       "        vertical-align: middle;\n",
       "    }\n",
       "\n",
       "    .dataframe tbody tr th {\n",
       "        vertical-align: top;\n",
       "    }\n",
       "\n",
       "    .dataframe thead th {\n",
       "        text-align: right;\n",
       "    }\n",
       "</style>\n",
       "<table border=\"1\" class=\"dataframe\">\n",
       "  <thead>\n",
       "    <tr style=\"text-align: right;\">\n",
       "      <th></th>\n",
       "      <th>model</th>\n",
       "      <th>mse</th>\n",
       "    </tr>\n",
       "  </thead>\n",
       "  <tbody>\n",
       "    <tr>\n",
       "      <th>2</th>\n",
       "      <td>SVM</td>\n",
       "      <td>0.014425</td>\n",
       "    </tr>\n",
       "    <tr>\n",
       "      <th>0</th>\n",
       "      <td>Random Forest</td>\n",
       "      <td>0.014651</td>\n",
       "    </tr>\n",
       "    <tr>\n",
       "      <th>1</th>\n",
       "      <td>Decision Tree Regressor</td>\n",
       "      <td>0.015468</td>\n",
       "    </tr>\n",
       "  </tbody>\n",
       "</table>\n",
       "</div>"
      ],
      "text/plain": [
       "                     model       mse\n",
       "2                      SVM  0.014425\n",
       "0            Random Forest  0.014651\n",
       "1  Decision Tree Regressor  0.015468"
      ]
     },
     "execution_count": 59,
     "metadata": {},
     "output_type": "execute_result"
    }
   ],
   "source": [
    "df"
   ]
  },
  {
   "cell_type": "code",
   "execution_count": 60,
   "metadata": {},
   "outputs": [
    {
     "data": {
      "text/plain": [
       "Text(0, 0.5, 'ALGORITHM')"
      ]
     },
     "execution_count": 60,
     "metadata": {},
     "output_type": "execute_result"
    },
    {
     "data": {
      "image/png": "[encoded data removed]",
      "text/plain": [
       "<Figure size 432x432 with 1 Axes>"
      ]
     },
     "metadata": {},
     "output_type": "display_data"
    }
   ],
   "source": [
    "plt.figure(figsize=(6,6))\n",
    "ax = sn.barplot(x=df['mse'], y=df['model'])\n",
    "plt.title('BEST ALGORITHM', weight='bold')\n",
    "plt.xlabel('MEAN SQUARED ERROR', weight='bold')\n",
    "plt.ylabel('ALGORITHM', weight='bold')"
   ]
  },
  {
   "cell_type": "markdown",
   "metadata": {},
   "source": [
    "## Conclusion:"
   ]
  },
  {
   "cell_type": "markdown",
   "metadata": {},
   "source": [
    "SVM algorithm gives the lowest value of mean squared error. The lower the mean sqaured error, the better it is for the model. Hence, SVM Algorithm will be the best for our dataset. "
   ]
  }
 ],
 "metadata": {
  "kernelspec": {
   "display_name": "Python 3",
   "language": "python",
   "name": "python3"
  },
  "language_info": {
   "codemirror_mode": {
    "name": "ipython",
    "version": 3
   },
   "file_extension": ".py",
   "mimetype": "text/x-python",
   "name": "python",
   "nbconvert_exporter": "python",
   "pygments_lexer": "ipython3",
   "version": "3.7.6"
  }
 },
 "nbformat": 4,
 "nbformat_minor": 4
}
